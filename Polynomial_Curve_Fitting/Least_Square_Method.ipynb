{
 "cells": [
  {
   "cell_type": "code",
   "execution_count": 1,
   "id": "bb46a0e2",
   "metadata": {},
   "outputs": [],
   "source": [
    "#Least Square Method for polynomial fitting\n",
    "import numpy as np\n",
    "import matplotlib.pyplot as plt"
   ]
  },
  {
   "cell_type": "code",
   "execution_count": null,
   "id": "401f540b",
   "metadata": {},
   "outputs": [],
   "source": [
    "def least_square_fit(x, y, degree):\n",
    "    \"\"\"\n",
    "    Fit a polynomial of given degree to the data points (x, y) using least squares method.\n",
    "    \n",
    "    Parameters:\n",
    "    x : array-like, shape (n,)\n",
    "        x-coordinates of the data points.\n",
    "    y : array-like, shape (n,)\n",
    "        y-coordinates of the data points.\n",
    "    degree : int\n",
    "        Degree of the polynomial to fit.\n",
    "        \n",
    "    Returns:\n",
    "    coeffs : ndarray, shape (degree + 1,)\n",
    "        Coefficients of the fitted polynomial, starting from the highest degree.\n",
    "    \"\"\"\n",
    "    coeffs = np.polyfit(x, y, degree)\n",
    "    return coeffs"
   ]
  }
 ],
 "metadata": {
  "kernelspec": {
   "display_name": ".venv",
   "language": "python",
   "name": "python3"
  },
  "language_info": {
   "codemirror_mode": {
    "name": "ipython",
    "version": 3
   },
   "file_extension": ".py",
   "mimetype": "text/x-python",
   "name": "python",
   "nbconvert_exporter": "python",
   "pygments_lexer": "ipython3",
   "version": "3.13.3"
  }
 },
 "nbformat": 4,
 "nbformat_minor": 5
}
